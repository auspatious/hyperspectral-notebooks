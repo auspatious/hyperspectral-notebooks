{
 "cells": [
  {
   "cell_type": "code",
   "execution_count": null,
   "metadata": {
    "tags": []
   },
   "outputs": [],
   "source": [
    "import os\n",
    "\n",
    "import holoviews as hv\n",
    "import hvplot.xarray  # noqa: F401\n",
    "import numpy as np\n",
    "import xarray as xr\n",
    "from fsspec.implementations.http import HTTPFileSystem\n",
    "\n",
    "from emit_tools import emit_xarray\n",
    "from utils import band_index, gamma_adjust, get_rgb_dataset, hv_to_rio_geometry"
   ]
  },
  {
   "cell_type": "code",
   "execution_count": null,
   "metadata": {
    "tags": []
   },
   "outputs": [],
   "source": [
    "# Generate a user token and set it as an environment variable\n",
    "# Tokens can be generated at https://urs.earthdata.nasa.gov/users/<username>/user_tokens\n",
    "token = os.environ.get('EARTHDATA_TOKEN')\n",
    "if token is None:\n",
    "    raise ValueError('Please set the EARTHDATA_TOKEN environment variable')"
   ]
  },
  {
   "cell_type": "code",
   "execution_count": null,
   "metadata": {
    "tags": []
   },
   "outputs": [],
   "source": [
    "%%time\n",
    "# Loading data can take around 4 minutes on a 100Mbps connection\n",
    "\n",
    "# kernel = \"EMIT_L2A_RFL_001_20230123T004529_2302216_003\" # Hobart\n",
    "kernel = \"EMIT_L2A_RFL_001_20230316T045211_2307503_006\" # Canberra\n",
    "\n",
    "s3_url = \"s3://lp-prod-protected/EMITL2ARFL.001/\" + kernel + \"/\" + kernel + \".nc\"\n",
    "s3_url = s3_url.replace(\"s3://\", \"https://data.lpdaac.earthdatacloud.nasa.gov/\")\n",
    "\n",
    "fs = HTTPFileSystem(headers={\n",
    "    \"Authorization\": f\"bearer {token}\"\n",
    "})\n",
    "ds = emit_xarray(fs.open(s3_url))\n",
    "# Clean up empty bands.. todo: remove the empty bands after.\n",
    "ds = ds.fillna(np.nan).where(ds.reflectance!=-0.01)\n",
    "ds"
   ]
  },
  {
   "cell_type": "code",
   "execution_count": null,
   "metadata": {
    "tags": []
   },
   "outputs": [],
   "source": [
    "%%capture --no-stdout\n",
    "%autoreload 2\n",
    "\n",
    "from utils import get_rgb_dataset\n",
    "\n",
    "\n",
    "# Select wavelengths to be displayed\n",
    "r = 2100\n",
    "g = 950\n",
    "b = 490\n",
    "\n",
    "# select brightness - range between 0-1, higher values 'brighten' the whole scene\n",
    "brightness = 0.4\n",
    "\n",
    "## End configuration area ##\n",
    "\n",
    "# Get data structured for rendering\n",
    "ds_rgb = get_rgb_dataset(ds, [r, g, b], brightness)\n"
   ]
  },
  {
   "cell_type": "code",
   "execution_count": null,
   "metadata": {},
   "outputs": [],
   "source": [
    "from holoviews import opts\n",
    "from holoviews.plotting.links import DataLink\n",
    "\n",
    "# ten unique colours:\n",
    "colours = ['#1f77b4', '#ff7f0e', '#2ca02c', '#d62728', '#9467bd',\n",
    "          '#8c564b', '#e377c2', '#7f7f7f', '#bcbd22', '#17becf']\n",
    "\n",
    "# RGB image/map\n",
    "map = ds_rgb.hvplot.rgb(\n",
    "    x=\"longitude\", y=\"latitude\", bands=\"bands\", aspect=\"equal\", frame_width=600\n",
    ")\n",
    "\n",
    "# Set up a holoviews points array to enable plotting of the clicked points\n",
    "xmid = ds.longitude.values[int(len(ds.longitude) / 2)]\n",
    "ymid = ds.latitude.values[int(len(ds.latitude) / 2)]\n",
    "\n",
    "first_polygon = {\n",
    "    'x': [\n",
    "        xmid - 0.1,\n",
    "        xmid + 0.1,\n",
    "        xmid + 0.1,\n",
    "        xmid - 0.1,\n",
    "\n",
    "    ],\n",
    "    'y': [\n",
    "        ymid - 0.1,\n",
    "        ymid - 0.1,\n",
    "        ymid + 0.1,\n",
    "        ymid - 0.1,\n",
    "    ],\n",
    "    'holes': [[]],\n",
    "    'id': 0\n",
    "\n",
    "}\n",
    "polygons = hv.Polygons(first_polygon, vdims='id')\n",
    "polygons_stream = hv.streams.PolyDraw(\n",
    "    data=polygons.columns(), source=polygons, num_objects=1\n",
    ")\n",
    "\n",
    "# Function to build spectral plot of clicked location to show on hover stream plot\n",
    "def polygon_spectra(data):\n",
    "    print(data)\n",
    "    geometries = [hv_to_rio_geometry(data)]\n",
    "    plots = []\n",
    "    for i, geometry in enumerate(geometries):\n",
    "        print(\"Working on one geometry\")\n",
    "        data = ds.reflectance.rio.clip(geometry, drop=False)\n",
    "        hv_data = hv.Dataset(data, kdims=[\"bands\", \"latitude\", \"longitude\"], vdims=[\"reflectance\"])\n",
    "        agg = hv_data.aggregate(\"bands\", np.nanmean, spreadfn=np.nanstd)\n",
    "\n",
    "        plots.append(\n",
    "            (hv.Spread(agg) * hv.Curve(agg))\n",
    "        )\n",
    "        polygons_stream.data[\"id\"][i] = i\n",
    "    return hv.Overlay(plots)\n",
    "\n",
    "# def update_labels(data):\n",
    "#     label_points = None\n",
    "#     if data is not None:\n",
    "#         label_data = (list(data[\"x\"]), list(data[\"y\"]), [i for i in range(len(data[\"x\"]))])\n",
    "#         label_points = hv.Points(label_data, vdims='id')\n",
    "#     return hv.Labels(label_points)\n",
    "\n",
    "# Define the Dynamic Maps\n",
    "click_dmap = hv.DynamicMap(polygon_spectra, streams=[polygons_stream])\n",
    "# label_dmap = hv.DynamicMap(update_labels, streams=[points_stream])\n",
    "\n",
    "# Plot the Map and Dynamic Map side by side\n",
    "hv.Layout(map * polygons + click_dmap).cols(1).opts(\n",
    "    opts.Overlay(show_legend=True, show_title=False, frame_width=600)\n",
    ")"
   ]
  }
 ],
 "metadata": {
  "kernelspec": {
   "display_name": "Python 3 (ipykernel)",
   "language": "python",
   "name": "python3"
  },
  "language_info": {
   "codemirror_mode": {
    "name": "ipython",
    "version": 3
   },
   "file_extension": ".py",
   "mimetype": "text/x-python",
   "name": "python",
   "nbconvert_exporter": "python",
   "pygments_lexer": "ipython3",
   "version": "3.11.3"
  }
 },
 "nbformat": 4,
 "nbformat_minor": 4
}
