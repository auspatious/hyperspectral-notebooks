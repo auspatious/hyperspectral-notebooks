{
 "cells": [
  {
   "cell_type": "code",
   "execution_count": null,
   "metadata": {},
   "outputs": [],
   "source": [
    "import os\n",
    "import xml.etree.ElementTree as ET\n",
    "from datetime import datetime\n",
    "from pathlib import Path\n",
    "\n",
    "import rio_stac\n",
    "from odc.stac import load"
   ]
  },
  {
   "cell_type": "code",
   "execution_count": null,
   "metadata": {},
   "outputs": [],
   "source": [
    "# Extract the original zip file from here https://drive.google.com/uc?id=1xrr1VDS_AcFEaufVBGFHVyRdbZgCyJ-V&export=download\n",
    "# into the data folder\n",
    "in_file = \"data/TD1_004930_20230205_L2A_20230224_03001065/TD1_004930_20230205_L2A_20230224_03001065.tif\"\n",
    "filename = Path(in_file)\n",
    "\n",
    "if not filename.exists():\n",
    "    raise Exception(\"You need to download the file first.\")"
   ]
  },
  {
   "cell_type": "code",
   "execution_count": null,
   "metadata": {},
   "outputs": [],
   "source": [
    "# Here we're creating an in-memory STAC document, which will help\n",
    "# ODC STAC to load the data.\n",
    "\n",
    "stac_filename = Path(in_file.replace(\".tif\", \".stac-item.json\"))\n",
    "\n",
    "day_string = str(filename.name).split(\"_\")[2]\n",
    "file_datetime = datetime(\n",
    "    day=int(day_string[6:8]), month=int(day_string[4:6]), year=int(day_string[:4])\n",
    ")\n",
    "\n",
    "item = rio_stac.create_stac_item(\n",
    "    filename,\n",
    "    input_datetime=file_datetime,\n",
    "    with_proj=True,\n",
    "    with_raster=True,\n",
    "    with_eo=True,\n",
    "    asset_name=\"reflectance\",\n",
    "    asset_href=os.path.abspath(filename),\n",
    "    collection=\"hsi\"\n",
    ")\n",
    "item.set_self_href(os.path.abspath(stac_filename))\n",
    "\n",
    "def deconstruct_xml(field_name):\n",
    "  xml_string = tree.find(field_name).text.lstrip(\"{\").rstrip(\"}\")\n",
    "  return [s.strip() for s in xml_string.split(\",\")]\n",
    "\n",
    "# Parse some values out of the ridiculous XML file\n",
    "xml_file = in_file.replace(\".tif\", \".xml\")\n",
    "tree = ET.parse(xml_file)\n",
    "\n",
    "bands = deconstruct_xml(\"Bands_UID\")\n",
    "wavelengths = deconstruct_xml(\"Wavelength_list\")\n",
    "\n",
    "new_eo_bands = [{\"name\": band, \"description\": wavelength} for band, wavelength in zip(bands, wavelengths)]\n",
    "\n",
    "# Update the automatic bands info with better values\n",
    "item.assets[\"reflectance\"].extra_fields[\"eo:bands\"] = new_eo_bands\n",
    "\n",
    "# Fix band nodata values\n",
    "new_raster_bands = []\n",
    "for band in item.assets[\"reflectance\"].extra_fields[\"raster:bands\"]:\n",
    "    new_band = band.copy()\n",
    "    new_band[\"nodata\"] = 0\n",
    "    new_raster_bands.append(new_band)\n",
    "\n",
    "item.assets[\"reflectance\"].extra_fields[\"raster:bands\"] = new_raster_bands\n",
    "\n",
    "# You can write out the STAC object if you want.\n",
    "# item.save_object()"
   ]
  },
  {
   "cell_type": "code",
   "execution_count": null,
   "metadata": {},
   "outputs": [],
   "source": [
    "# Save for writing to S3.\n",
    "# item.set_self_href(\"s3://files.auspatious.com/hsi_example/TD1_004930_20230205_L2A_20230224_03001065_COG.stac-item.json\")\n",
    "# item.assets[\"reflectance\"].href = \"s3://files.auspatious.com/hsi_example/TD1_004930_20230205_L2A_20230224_03001065_COG.tif\"\n",
    "# item.save_object()"
   ]
  },
  {
   "cell_type": "code",
   "execution_count": null,
   "metadata": {},
   "outputs": [],
   "source": [
    "# Select a subset, so it doesn't take a long time\n",
    "eo_bands_subset = item.assets[\"reflectance\"].extra_fields[\"eo:bands\"][0:5]\n",
    "\n",
    "# Load the data\n",
    "data = load(\n",
    "    [item],\n",
    "    measurements=[i[\"name\"] for i in eo_bands_subset]\n",
    ")\n",
    "\n",
    "# No need for time\n",
    "data = data.squeeze(\"time\")\n",
    "\n",
    "# Stack up the bands, so we have a multi-dimensional raster instead\n",
    "data_stacked = data.to_array(\"band\")\n",
    "\n",
    "# Replace the original data object with a nice indexed one\n",
    "data = data_stacked.assign_coords(band=[float(i[\"description\"]) for i in eo_bands_subset])\n"
   ]
  },
  {
   "cell_type": "code",
   "execution_count": null,
   "metadata": {},
   "outputs": [],
   "source": [
    "# Now we can select a band by wavelength and plot it!\n",
    "data.sel(band=450, method=\"nearest\").plot()"
   ]
  }
 ],
 "metadata": {
  "kernelspec": {
   "display_name": "Python 3",
   "language": "python",
   "name": "python3"
  },
  "language_info": {
   "codemirror_mode": {
    "name": "ipython",
    "version": 3
   },
   "file_extension": ".py",
   "mimetype": "text/x-python",
   "name": "python",
   "nbconvert_exporter": "python",
   "pygments_lexer": "ipython3",
   "version": "3.11.3"
  },
  "orig_nbformat": 4
 },
 "nbformat": 4,
 "nbformat_minor": 2
}
