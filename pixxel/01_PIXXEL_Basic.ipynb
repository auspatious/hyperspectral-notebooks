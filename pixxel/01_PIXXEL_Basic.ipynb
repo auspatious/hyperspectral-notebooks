{
 "cells": [
  {
   "cell_type": "code",
   "execution_count": null,
   "metadata": {},
   "outputs": [],
   "source": [
    "import json\n",
    "\n",
    "import hvplot.xarray  # noqa F401\n",
    "import pystac\n",
    "import s3fs\n",
    "from odc.stac import configure_rio, load"
   ]
  },
  {
   "cell_type": "code",
   "execution_count": null,
   "metadata": {},
   "outputs": [],
   "source": [
    "import odc.stac\n",
    "if odc.stac.__version__ != \"0.3.6\":\n",
    "    raise Exception(f\"You need to use odc.stac version 0.3.6 or greater. You have {odc.stac.__version__}\")"
   ]
  },
  {
   "cell_type": "code",
   "execution_count": null,
   "metadata": {},
   "outputs": [],
   "source": [
    "s3_uri = \"s3://files.auspatious.com/hsi_example/TD1_004930_20230205_L2A_20230224_03001065_COG.stac-item.json\"\n",
    "\n",
    "# Open S3 object as a file using s3fs\n",
    "s3 = s3fs.S3FileSystem(anon=True)\n",
    "with s3.open(s3_uri, \"rt\") as f:\n",
    "    stac_dict = json.load(f)\n",
    "item = pystac.read_dict(stac_dict)\n",
    "\n",
    "# Optionally select a subset, so it doesn't take a long time\n",
    "eo_bands_subset = item.assets[\"reflectance\"].extra_fields[\"eo:bands\"]\n",
    "\n",
    "# Load the data, telling rasterio to not sign requests\n",
    "configure_rio(\n",
    "    cloud_defaults=True,\n",
    "    aws={\"aws_unsigned\": True},\n",
    "    AWS_S3_ENDPOINT=\"s3.ap-southeast-2.amazonaws.com\",\n",
    ")\n",
    "ds = load(\n",
    "    [item],\n",
    "    measurements=[i[\"name\"] for i in eo_bands_subset],\n",
    "    chunks={\"bands\": 1, \"longitude\": 1200, \"latitude\": 1200}\n",
    ")\n",
    "\n",
    "# No need for time\n",
    "ds = ds.squeeze(\"time\")\n",
    "\n",
    "# Stack up the bands, so we have a multi-dimensional raster instead\n",
    "ds_stacked = ds.to_array(\"bands\")\n",
    "\n",
    "# Replace the original ds object with a nice indexed one\n",
    "bands = list([float(i[\"description\"]) for i in eo_bands_subset])\n",
    "bands.sort()  # This is pretty dangerous... let's assume the .tif has bands in the right order!\n",
    "ds = ds_stacked.assign_coords(bands=bands).to_dataset(name=\"reflectance\")\n",
    "\n",
    "# This is a dask lazy-loaded array. Can be all loaded with .compute()\n",
    "ds\n"
   ]
  },
  {
   "cell_type": "code",
   "execution_count": null,
   "metadata": {},
   "outputs": [],
   "source": [
    "# Now we can select a band by wavelength and plot it\n",
    "ds.reflectance.sel(bands=450, method=\"nearest\").hvplot(aspect=\"equal\", frame_width=600)"
   ]
  },
  {
   "cell_type": "code",
   "execution_count": null,
   "metadata": {},
   "outputs": [],
   "source": [
    "# Create a water layer\n",
    "# Picked values from here https://en.wikipedia.org/wiki/Normalized_difference_water_index\n",
    "green = ds.reflectance.sel(bands=559, method=\"nearest\").astype(\"float32\")\n",
    "nir = ds.reflectance.sel(bands=864, method=\"nearest\").astype(\"float32\")\n",
    "\n",
    "water = ((green - nir) / (green + nir)) > 0.2\n",
    "ds[\"water\"] = water.fillna(float(\"nan\")).where(water)"
   ]
  },
  {
   "cell_type": "code",
   "execution_count": null,
   "metadata": {},
   "outputs": [],
   "source": [
    "ds.water.hvplot(aspect=\"equal\", frame_width=600)"
   ]
  }
 ],
 "metadata": {
  "kernelspec": {
   "display_name": "Python 3",
   "language": "python",
   "name": "python3"
  },
  "language_info": {
   "codemirror_mode": {
    "name": "ipython",
    "version": 3
   },
   "file_extension": ".py",
   "mimetype": "text/x-python",
   "name": "python",
   "nbconvert_exporter": "python",
   "pygments_lexer": "ipython3",
   "version": "3.11.3"
  }
 },
 "nbformat": 4,
 "nbformat_minor": 4
}
