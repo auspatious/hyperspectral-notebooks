{
 "cells": [
  {
   "cell_type": "code",
   "execution_count": null,
   "metadata": {
    "tags": []
   },
   "outputs": [],
   "source": [
    "import numpy as np\n",
    "from fsspec.implementations.http import HTTPFileSystem\n",
    "from dea_tools.spatial import xr_vectorize\n",
    "from dea_tools.spatial import xr_rasterize\n",
    "from samgeo import SamGeo\n",
    "import leafmap\n",
    "\n",
    "from emit_tools import emit_xarray\n",
    "from utils import get_rgb_dataset, get_earthdata_token, gamma_adjust"
   ]
  },
  {
   "cell_type": "code",
   "execution_count": null,
   "metadata": {
    "tags": []
   },
   "outputs": [],
   "source": [
    "# See README.md for instructions on how to get an Earthdata token\n",
    "token = get_earthdata_token()"
   ]
  },
  {
   "cell_type": "code",
   "execution_count": null,
   "metadata": {
    "tags": []
   },
   "outputs": [],
   "source": [
    "%%time\n",
    "# Loading data can take around 3-4 minutes on a 100 Mbps connection\n",
    "\n",
    "# Refer to the README.md for instructions on how to find granule IDs\n",
    "granule = \"EMIT_L2A_RFL_001_20230316T045211_2307503_006\" # Canberra\n",
    "\n",
    "s3_url = \"s3://lp-prod-protected/EMITL2ARFL.001/\" + granule + \"/\" + granule + \".nc\"\n",
    "http_url = s3_url.replace(\"s3://\", \"https://data.lpdaac.earthdatacloud.nasa.gov/\")\n",
    "\n",
    "fs = HTTPFileSystem(headers={\n",
    "    \"Authorization\": f\"bearer {token}\"\n",
    "})\n",
    "ds = emit_xarray(fs.open(http_url))\n",
    "ds"
   ]
  },
  {
   "cell_type": "code",
   "execution_count": null,
   "metadata": {},
   "outputs": [],
   "source": [
    "import xarray as xr\n",
    "import rioxarray as rxa\n",
    "\n",
    "bands = {\n",
    "    \"red\": 650,\n",
    "    \"green\": 560,\n",
    "    \"blue\": 470,\n",
    "}\n",
    "\n",
    "dataset = xr.Dataset()\n",
    "\n",
    "for band, wavelength in bands.items():\n",
    "    data_array = xr.DataArray(\n",
    "        gamma_adjust(ds, wavelength, 0.4, replace_nans=False) * 255,\n",
    "        dims=('latitude', 'longitude'),\n",
    "        coords={'longitude': ds.longitude, 'latitude': ds.latitude}\n",
    "    ).astype(np.uint8)\n",
    "    dataset[band] = data_array\n",
    "\n",
    "# Rename coordinates\n",
    "dataset = dataset.rename({'longitude': 'x', 'latitude': 'y'})\n",
    "# see the structure\n",
    "print(dataset)"
   ]
  },
  {
   "cell_type": "code",
   "execution_count": null,
   "metadata": {},
   "outputs": [],
   "source": [
    "image = \"scene_rgb.tif\"\n",
    "dataset.rio.to_raster(\"scene_rgb.tif\")"
   ]
  },
  {
   "cell_type": "code",
   "execution_count": null,
   "metadata": {},
   "outputs": [],
   "source": [
    "# Show the saved image on a map\n",
    "m = leafmap.Map(center=[-42.9, 147.3], zoom=15)\n",
    "m.add_basemap(\"SATELLITE\")\n",
    "m.add_raster(image, layer_name=\"Image\")\n",
    "m"
   ]
  },
  {
   "cell_type": "code",
   "execution_count": null,
   "metadata": {},
   "outputs": [],
   "source": [
    "# When we're happy, delete the raw data to save memory\n",
    "del ds"
   ]
  },
  {
   "cell_type": "code",
   "execution_count": null,
   "metadata": {},
   "outputs": [],
   "source": [
    "# Set up our model\n",
    "sam_kwargs = {\n",
    "    \"points_per_side\": 32,\n",
    "    \"pred_iou_thresh\": 0.86,\n",
    "    \"stability_score_thresh\": 0.92,\n",
    "    \"crop_n_layers\": 1,\n",
    "    \"crop_n_points_downscale_factor\": 2,\n",
    "    \"min_mask_region_area\": 100,\n",
    "}\n",
    "\n",
    "sam = SamGeo(\n",
    "    model_type=\"vit_h\",\n",
    "    checkpoint=\"sam_vit_h_4b8939.pth\",\n",
    "    sam_kwargs=sam_kwargs,\n",
    ")"
   ]
  },
  {
   "cell_type": "code",
   "execution_count": null,
   "metadata": {},
   "outputs": [],
   "source": [
    "sam.generate(image, \"scene_rgb_mask.tif\")"
   ]
  },
  {
   "cell_type": "code",
   "execution_count": null,
   "metadata": {},
   "outputs": [],
   "source": [
    "sam.show_masks()"
   ]
  }
 ],
 "metadata": {
  "kernelspec": {
   "display_name": "Python 3 (ipykernel)",
   "language": "python",
   "name": "python3"
  },
  "language_info": {
   "codemirror_mode": {
    "name": "ipython",
    "version": 3
   },
   "file_extension": ".py",
   "mimetype": "text/x-python",
   "name": "python",
   "nbconvert_exporter": "python",
   "pygments_lexer": "ipython3",
   "version": "3.11.3"
  }
 },
 "nbformat": 4,
 "nbformat_minor": 4
}
