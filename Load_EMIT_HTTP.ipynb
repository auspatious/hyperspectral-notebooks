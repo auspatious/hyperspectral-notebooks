{
 "cells": [
  {
   "cell_type": "code",
   "execution_count": null,
   "metadata": {},
   "outputs": [],
   "source": [
    "import requests\n",
    "import xarray as xr\n",
    "from emit_tools import emit_xarray\n",
    "import os\n",
    "from fsspec.implementations.http import HTTPFileSystem\n",
    "from dea_tools.plotting import rgb"
   ]
  },
  {
   "cell_type": "code",
   "execution_count": null,
   "metadata": {},
   "outputs": [],
   "source": [
    "# Generate a user token and set it as an environment variable\n",
    "# Tokens can be generated at https://urs.earthdata.nasa.gov/users/<username>/user_tokens\n",
    "token = os.environ.get('EARTHDATA_TOKEN')\n",
    "if token is None:\n",
    "    raise ValueError('Please set the EARTHDATA_TOKEN environment variable')"
   ]
  },
  {
   "cell_type": "code",
   "execution_count": null,
   "metadata": {},
   "outputs": [],
   "source": [
    "%%time\n",
    "s3_url = \"s3://lp-prod-protected/EMITL2ARFL.001/EMIT_L2A_RFL_001_20230123T004529_2302216_003/EMIT_L2A_RFL_001_20230123T004529_2302216_003.nc\"\n",
    "s3_url = s3_url.replace(\"s3://\", \"https://data.lpdaac.earthdatacloud.nasa.gov/\")\n",
    "\n",
    "fs = HTTPFileSystem(headers={\n",
    "    \"Authorization\": f\"bearer {token}\"\n",
    "})\n",
    "# ds = xr.open_dataset(fs.open(s3_url))\n",
    "ds = emit_xarray(fs.open(s3_url))\n",
    "ds"
   ]
  }
 ],
 "metadata": {
  "kernelspec": {
   "display_name": "Python 3 (ipykernel)",
   "language": "python",
   "name": "python3"
  },
  "language_info": {
   "codemirror_mode": {
    "name": "ipython",
    "version": 3
   },
   "file_extension": ".py",
   "mimetype": "text/x-python",
   "name": "python",
   "nbconvert_exporter": "python",
   "pygments_lexer": "ipython3",
   "version": "3.10.6"
  }
 },
 "nbformat": 4,
 "nbformat_minor": 2
}
