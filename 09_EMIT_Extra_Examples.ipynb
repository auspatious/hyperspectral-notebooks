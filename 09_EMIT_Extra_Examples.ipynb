{
 "cells": [
  {
   "cell_type": "code",
   "execution_count": null,
   "metadata": {},
   "outputs": [],
   "source": [
    "import xarray as xr\n",
    "from emit_tools import emit_xarray\n",
    "import os\n",
    "from fsspec.implementations.http import HTTPFileSystem\n",
    "import numpy as np\n",
    "import math"
   ]
  },
  {
   "cell_type": "code",
   "execution_count": null,
   "metadata": {},
   "outputs": [],
   "source": [
    "# Generate a user token and set it as an environment variable\n",
    "# Tokens can be generated at https://urs.earthdata.nasa.gov/users/<username>/user_tokens\n",
    "token = os.environ.get('EARTHDATA_TOKEN')\n",
    "if token is None:\n",
    "    raise ValueError('Please set the EARTHDATA_TOKEN environment variable')"
   ]
  },
  {
   "cell_type": "code",
   "execution_count": null,
   "metadata": {},
   "outputs": [],
   "source": [
    "%%time\n",
    "# Loading data can take around 4 minutes on a 100Mbps connection\n",
    "\n",
    "# kernel = \"EMIT_L2A_RFL_001_20230123T004529_2302216_003\" # Hobart\n",
    "kernel = \"EMIT_L2A_RFL_001_20230316T045211_2307503_006\" # Canberra\n",
    "\n",
    "s3_url = \"s3://lp-prod-protected/EMITL2ARFL.001/\" + kernel + \"/\" + kernel + \".nc\"\n",
    "s3_url = s3_url.replace(\"s3://\", \"https://data.lpdaac.earthdatacloud.nasa.gov/\")\n",
    "\n",
    "fs = HTTPFileSystem(headers={\n",
    "    \"Authorization\": f\"bearer {token}\"\n",
    "})\n",
    "ds = emit_xarray(fs.open(s3_url))\n",
    "ds"
   ]
  },
  {
   "attachments": {},
   "cell_type": "markdown",
   "metadata": {},
   "source": [
    "## Plot bands as an RGB image"
   ]
  },
  {
   "cell_type": "code",
   "execution_count": null,
   "metadata": {},
   "outputs": [],
   "source": [
    "# 650 = Red, 560 = Green and 470 = Blue\n",
    "# Change these to other bands and this will select the closest band\n",
    "band_1 = 650\n",
    "band_2 = 560\n",
    "band_3 = 470\n",
    "\n",
    "ds[\"band_1\"] = ds.reflectance.sel(bands=band_1, method=\"nearest\")\n",
    "ds[\"band_2\"] = ds.reflectance.sel(bands=band_2, method=\"nearest\")\n",
    "ds[\"band_3\"] = ds.reflectance.sel(bands=band_3, method=\"nearest\")"
   ]
  },
  {
   "cell_type": "code",
   "execution_count": null,
   "metadata": {},
   "outputs": [],
   "source": [
    "ds.drop_dims(\"bands\").to_array().plot.imshow(x=\"longitude\", y=\"latitude\", robust=True, vmin=0, vmax=0.2)"
   ]
  },
  {
   "attachments": {},
   "cell_type": "markdown",
   "metadata": {},
   "source": [
    "## View a single band on an interactive map"
   ]
  },
  {
   "cell_type": "code",
   "execution_count": null,
   "metadata": {},
   "outputs": [],
   "source": [
    "import folium\n",
    "import odc.geo.xr\n",
    "\n",
    "m = folium.Map(control_scale=True, tiles=None)\n",
    "\n",
    "band = 450\n",
    "ds.reflectance.sel(bands=450, method=\"nearest\").odc.add_to(m, opacity=0.7, title=f\"band_{band}\")\n",
    "\n",
    "# Zoom map\n",
    "m.fit_bounds(ds.odc.map_bounds())\n",
    "\n",
    "tile = folium.TileLayer(\n",
    "    tiles = 'https://server.arcgisonline.com/ArcGIS/rest/services/World_Imagery/MapServer/tile/{z}/{y}/{x}',\n",
    "    attr = 'Esri',\n",
    "    name = 'Esri Satellite',\n",
    "    overlay = True,\n",
    "    control = True\n",
    ").add_to(m)\n",
    "\n",
    "folium.LayerControl().add_to(m)\n",
    "display(m)"
   ]
  },
  {
   "attachments": {},
   "cell_type": "markdown",
   "metadata": {},
   "source": [
    "## Plot the spectra at a point"
   ]
  },
  {
   "cell_type": "code",
   "execution_count": null,
   "metadata": {},
   "outputs": [],
   "source": [
    "# Using matplotlib to plot the reflectance of a single location\n",
    "example = ds['reflectance'].sel(longitude=149.2,latitude=-34.9, method='nearest')\n",
    "example.plot(x='bands', size=2, aspect=4)"
   ]
  },
  {
   "attachments": {},
   "cell_type": "markdown",
   "metadata": {},
   "source": [
    "## Exporting data"
   ]
  },
  {
   "cell_type": "code",
   "execution_count": null,
   "metadata": {},
   "outputs": [],
   "source": [
    "ds.red.rio.to_raster(\"red.tif\")\n",
    "ds.green.rio.to_raster(\"green.tif\")\n",
    "ds.blue.rio.to_raster(\"blue.tif\")"
   ]
  },
  {
   "cell_type": "code",
   "execution_count": null,
   "metadata": {},
   "outputs": [],
   "source": [
    "!gdal_merge.py -separate red.tif green.tif blue.tif -o rgb.tif "
   ]
  }
 ],
 "metadata": {
  "kernelspec": {
   "display_name": "Python 3 (ipykernel)",
   "language": "python",
   "name": "python3"
  },
  "language_info": {
   "codemirror_mode": {
    "name": "ipython",
    "version": 3
   },
   "file_extension": ".py",
   "mimetype": "text/x-python",
   "name": "python",
   "nbconvert_exporter": "python",
   "pygments_lexer": "ipython3",
   "version": "3.11.3"
  }
 },
 "nbformat": 4,
 "nbformat_minor": 4
}
