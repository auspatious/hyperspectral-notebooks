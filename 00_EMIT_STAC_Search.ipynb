{
 "cells": [
  {
   "cell_type": "code",
   "execution_count": null,
   "metadata": {
    "tags": []
   },
   "outputs": [],
   "source": [
    "from fsspec.implementations.http import HTTPFileSystem\n",
    "\n",
    "from emit_tools import emit_xarray\n",
    "from utils import get_earthdata_token, load_emit_granule\n",
    "\n",
    "import pystac_client"
   ]
  },
  {
   "attachments": {},
   "cell_type": "markdown",
   "metadata": {},
   "source": [
    "# Search the CMR STAC API\n",
    "\n",
    "This notebook uses the CMR STAC API to search for scenes with a bounding box.\n",
    "It's trivial to add a datetime range and other parameters to find scenes and\n",
    "plausible to merge multiple resulting datasets into a temporal stack."
   ]
  },
  {
   "cell_type": "code",
   "execution_count": null,
   "metadata": {},
   "outputs": [],
   "source": [
    "client = pystac_client.Client.open(\"https://cmr.earthdata.nasa.gov/cloudstac/LPCLOUD\")\n",
    "\n",
    "# Search with a bbox over Canberra, Australia\n",
    "results = client.search(collections=[\"EMITL2ARFL.v001\"], bbox=[149.0, -35.5, 149.5, -35.0])\n",
    "\n",
    "# Print the number of items found\n",
    "print(f\"Found {results.matched()} items\")\n"
   ]
  },
  {
   "cell_type": "code",
   "execution_count": null,
   "metadata": {},
   "outputs": [],
   "source": [
    "all_items = [i for i in results.get_all_items()]\n",
    "for item in all_items:\n",
    "  print(f\"Found a granule {item.id} from {item.datetime:%Y-%m-%d}\")"
   ]
  },
  {
   "cell_type": "code",
   "execution_count": null,
   "metadata": {
    "tags": []
   },
   "outputs": [],
   "source": [
    "%%time\n",
    "# Loading data can take around 3-4 minutes on a 100 Mbps connection\n",
    "\n",
    "# See README.md for instructions on how to get an Earthdata token\n",
    "token = get_earthdata_token()\n",
    "\n",
    "# Use the first granule from the search results\n",
    "ds = load_emit_granule(all_items[0].id, token)\n",
    "ds"
   ]
  }
 ],
 "metadata": {
  "kernelspec": {
   "display_name": "Python 3 (ipykernel)",
   "language": "python",
   "name": "python3"
  },
  "language_info": {
   "codemirror_mode": {
    "name": "ipython",
    "version": 3
   },
   "file_extension": ".py",
   "mimetype": "text/x-python",
   "name": "python",
   "nbconvert_exporter": "python",
   "pygments_lexer": "ipython3",
   "version": "3.11.3"
  }
 },
 "nbformat": 4,
 "nbformat_minor": 4
}
