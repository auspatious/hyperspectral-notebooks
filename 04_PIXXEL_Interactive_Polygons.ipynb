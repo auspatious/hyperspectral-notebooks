{
 "cells": [
  {
   "cell_type": "code",
   "execution_count": null,
   "metadata": {
    "tags": []
   },
   "outputs": [],
   "source": [
    "import holoviews as hv\n",
    "import hvplot.xarray  # noqa: F401\n",
    "import numpy as np\n",
    "import xarray as xr\n",
    "from holoviews import opts\n",
    "import json\n",
    "import s3fs\n",
    "from odc.stac import configure_rio, load\n",
    "import pystac\n",
    "import rioxarray\n",
    "\n",
    "from utils import get_rgb_dataset, hv_stream_to_rio_geometries, get_earthdata_token"
   ]
  },
  {
   "cell_type": "code",
   "execution_count": null,
   "metadata": {
    "tags": []
   },
   "outputs": [],
   "source": [
    "import odc.stac\n",
    "if odc.stac.__version__ != \"0.3.6\":\n",
    "    raise Exception(f\"You need to use odc.stac version 0.3.6 or greater. You have {odc.stac.__version__}\")"
   ]
  },
  {
   "cell_type": "code",
   "execution_count": null,
   "metadata": {
    "tags": []
   },
   "outputs": [],
   "source": [
    "%%time\n",
    "s3_uri = \"s3://files.auspatious.com/hsi_example/TD1_004930_20230205_L2A_20230224_03001065_COG.stac-item.json\"\n",
    "\n",
    "# Open S3 object as a file using s3fs\n",
    "s3 = s3fs.S3FileSystem(anon=True)\n",
    "with s3.open(s3_uri, \"rt\") as f:\n",
    "    stac_dict = json.load(f)\n",
    "item = pystac.read_dict(stac_dict)\n",
    "\n",
    "# Optionally select a subset, so it doesn't take a long time\n",
    "eo_bands_subset = item.assets[\"reflectance\"].extra_fields[\"eo:bands\"]\n",
    "\n",
    "# Load the data, telling rasterio to not sign requests\n",
    "configure_rio(\n",
    "    cloud_defaults=True,\n",
    "    aws={\"aws_unsigned\": True},\n",
    "    AWS_S3_ENDPOINT=\"s3.ap-southeast-2.amazonaws.com\",\n",
    ")\n",
    "ds = load(\n",
    "    [item],\n",
    "    measurements=[i[\"name\"] for i in eo_bands_subset],\n",
    "    chunks={\"bands\": 1, \"longitude\": 1200, \"latitude\": 1200}\n",
    ")\n",
    "\n",
    "# No need for time\n",
    "ds = ds.squeeze(\"time\")\n",
    "\n",
    "# Stack up the bands, so we have a multi-dimensional raster instead\n",
    "ds_stacked = ds.to_array(\"bands\")\n",
    "\n",
    "# Replace the original ds object with a nice indexed one\n",
    "bands = list([float(i[\"description\"]) for i in eo_bands_subset])\n",
    "bands.sort()  # This is pretty dangerous... let's assume the .tif has bands in the right order!\n",
    "ds = ds_stacked.assign_coords(bands=bands).to_dataset(name=\"reflectance\")\n",
    "\n",
    "# mask 0 as nan\n",
    "ds = ds.where(ds != 0)\n",
    "\n",
    "# Load all the data. Should take less than 2 minutes\n",
    "ds = ds.compute()\n",
    "\n",
    "ds\n"
   ]
  },
  {
   "cell_type": "code",
   "execution_count": null,
   "metadata": {
    "tags": []
   },
   "outputs": [],
   "source": [
    "# Select wavelengths to be displayed\n",
    "r = 680\n",
    "g = 550\n",
    "b = 465\n",
    "\n",
    "# Select brightness - range between 0-1, higher values 'brighten' the whole scene\n",
    "brightness = 0.2\n",
    "\n",
    "## End configuration area ##\n",
    "\n",
    "# Get data structured for rendering\n",
    "ds_rgb = get_rgb_dataset(ds, [r, g, b], [0.4, 0.45, 0.45])"
   ]
  },
  {
   "cell_type": "code",
   "execution_count": null,
   "metadata": {
    "tags": []
   },
   "outputs": [],
   "source": [
    "ds_rgb.hvplot.rgb(\n",
    "    x=\"longitude\", y=\"latitude\", bands=\"bands\", aspect=\"equal\", frame_width=600\n",
    ")"
   ]
  },
  {
   "cell_type": "code",
   "execution_count": null,
   "metadata": {
    "tags": []
   },
   "outputs": [],
   "source": [
    "# Limit the number of drawn polygons\n",
    "POLY_LIMIT = 5\n",
    "\n",
    "color_cycle = hv.Cycle('Category10')\n",
    "colors = [color_cycle[i] for i in range(5)]\n",
    "\n",
    "# RGB image/map\n",
    "map = ds_rgb.hvplot.rgb(\n",
    "    x=\"longitude\", y=\"latitude\", bands=\"bands\", aspect=\"equal\", frame_width=600\n",
    ")\n",
    "\n",
    "# Set up a holoviews points array to enable plotting of the clicked points\n",
    "xmid = ds.longitude.values[int(len(ds.longitude) / 2)]\n",
    "ymid = ds.latitude.values[int(len(ds.latitude) / 2)]\n",
    "polygons = hv.Polygons(\n",
    "    [],\n",
    "    kdims=[\"xs\", \"ys\"],\n",
    ")\n",
    "\n",
    "polygons_stream = hv.streams.PolyDraw(\n",
    "    # data=polygons.columns(),\n",
    "    source=polygons,\n",
    "    num_objects=POLY_LIMIT,\n",
    "    styles={'fill_color': color_cycle.values[0:POLY_LIMIT]}\n",
    ")\n",
    "\n",
    "# Plot the Map and Dynamic Map side by side\n",
    "(map * polygons)"
   ]
  },
  {
   "cell_type": "code",
   "execution_count": null,
   "metadata": {
    "tags": []
   },
   "outputs": [],
   "source": [
    "# Build a spectral plot for each of the drawn polygons.\n",
    "# This takes a while.\n",
    "\n",
    "plots = []\n",
    "\n",
    "geometries = hv_stream_to_rio_geometries(polygons_stream.data)\n",
    "export = []\n",
    "\n",
    "for i, geometry in enumerate(geometries):\n",
    "    data = ds.reflectance.rio.clip(geometry, drop=False)\n",
    "    hv_data = hv.Dataset(data, kdims=[\"bands\", \"latitude\", \"longitude\"], vdims=[\"reflectance\"])\n",
    "    agg = hv_data.aggregate(\"bands\", np.nanmean, spreadfn=np.nanstd)\n",
    "    \n",
    "    data = [i, json.dumps(geometry)] + list(agg.data.reflectance.values) + list(agg.data.reflectance_nanstd.values)\n",
    "    export.append(data)                                                    \n",
    "\n",
    "    plots.append(\n",
    "        (hv.Spread(agg) * hv.Curve(agg, label=f\"{i}\"))\n",
    "    )\n",
    "\n",
    "hv.Overlay(plots).opts(\n",
    "    opts.Spread(color=color_cycle),\n",
    "    opts.Curve(color=color_cycle),\n",
    "    opts.Overlay(show_title=False, frame_width=600, show_legend=False)\n",
    ")"
   ]
  },
  {
   "cell_type": "code",
   "execution_count": null,
   "metadata": {
    "tags": []
   },
   "outputs": [],
   "source": [
    "import csv \n",
    "\n",
    "data = polygons_stream.data\n",
    "wavelengths = ds.bands.values\n",
    "\n",
    "header_rows = [[\"id\", \"geom\"] + [f\"{i}_m\" for i in wavelengths] + [f\"{i}_std\" for i in wavelengths]]\n",
    "\n",
    "rows = header_rows + export\n",
    "    \n",
    "with open('polygon_data.csv', 'w') as f:\n",
    "    writer = csv.writer(f, delimiter=\";\")\n",
    "    writer.writerows(rows)"
   ]
  }
 ],
 "metadata": {
  "kernelspec": {
   "display_name": "Alex Test Environment",
   "language": "python",
   "name": "test"
  },
  "language_info": {
   "codemirror_mode": {
    "name": "ipython",
    "version": 3
   },
   "file_extension": ".py",
   "mimetype": "text/x-python",
   "name": "python",
   "nbconvert_exporter": "python",
   "pygments_lexer": "ipython3",
   "version": "3.10.6"
  }
 },
 "nbformat": 4,
 "nbformat_minor": 4
}
