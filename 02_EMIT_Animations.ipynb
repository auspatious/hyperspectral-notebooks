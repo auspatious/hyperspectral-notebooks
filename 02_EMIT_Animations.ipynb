{
 "cells": [
  {
   "cell_type": "code",
   "execution_count": null,
   "metadata": {},
   "outputs": [],
   "source": [
    "from fsspec.implementations.http import HTTPFileSystem\n",
    "import holoviews as hv\n",
    "import hvplot.xarray  # noqa: F401\n",
    "\n",
    "from emit_tools import emit_xarray\n",
    "from utils import get_earthdata_token"
   ]
  },
  {
   "attachments": {},
   "cell_type": "markdown",
   "metadata": {},
   "source": [
    "## Band animations\n",
    "\n",
    "This notebook will create an interactive visualisation explorer or animation that\n",
    "steps through the bands.\n",
    "\n",
    "Since the hyperspectral sensor splits the spectrum into 285 bands, there are a lot\n",
    "of combinations that could be used if we stick to RGB or single-band visualisation\n",
    "as demonstrated in the first notebook. This notebook will allow us to quickly\n",
    "explore the scene across the spectra. "
   ]
  },
  {
   "cell_type": "code",
   "execution_count": null,
   "metadata": {},
   "outputs": [],
   "source": [
    "# See README.md for instructions on how to get an Earthdata token\n",
    "token = get_earthdata_token()"
   ]
  },
  {
   "cell_type": "code",
   "execution_count": null,
   "metadata": {},
   "outputs": [],
   "source": [
    "%%time\n",
    "# Loading data can take around 4 minutes on a 100Mbps connection\n",
    "\n",
    "# kernel = \"EMIT_L2A_RFL_001_20230123T004529_2302216_003\" # Hobart\n",
    "kernel = \"EMIT_L2A_RFL_001_20230316T045211_2307503_006\" # Canberra\n",
    "\n",
    "s3_url = \"s3://lp-prod-protected/EMITL2ARFL.001/\" + kernel + \"/\" + kernel + \".nc\"\n",
    "s3_url = s3_url.replace(\"s3://\", \"https://data.lpdaac.earthdatacloud.nasa.gov/\")\n",
    "\n",
    "fs = HTTPFileSystem(headers={\n",
    "    \"Authorization\": f\"bearer {token}\"\n",
    "})\n",
    "ds = emit_xarray(fs.open(s3_url))\n",
    "ds"
   ]
  },
  {
   "cell_type": "code",
   "execution_count": null,
   "metadata": {},
   "outputs": [],
   "source": [
    "# Render an image for each band and build an interactive explorer\n",
    "# This takes a few minutes to render if you ask for many images\n",
    "\n",
    "# All wavelengths... generally doesn't work because there's too many!\n",
    "# wavelengths = ds.wavelengths.values\n",
    "        \n",
    "# A subset of wavelengths. Change the third value to change the step size.\n",
    "wavelengths = ds.wavelengths.values[range(0, 285, 20)]\n",
    "\n",
    "animation = hv.HoloMap(\n",
    "    {\n",
    "        band: hv.Image(ds.sel(bands=band).reflectance).opts(\n",
    "            cmap=\"viridis\", colorbar=True, width=600, height=400, xaxis='bare', yaxis='bare', invert_axes=True\n",
    "        )\n",
    "        for band in wavelengths\n",
    "    },\n",
    "    kdims=\"band\",\n",
    ")\n",
    "# Uncomment the below to view the interactive explorer, though it crashes with lots of images...\n",
    "# animation"
   ]
  },
  {
   "cell_type": "code",
   "execution_count": null,
   "metadata": {},
   "outputs": [],
   "source": [
    "# Inline animated output\n",
    "hv.output(animation, holomap=\"gif\", fps=4)"
   ]
  },
  {
   "cell_type": "code",
   "execution_count": null,
   "metadata": {},
   "outputs": [],
   "source": [
    "# Save animation as a file.\n",
    "hv.save(animation, 'spectral_animation.gif', fps=4, toolbar=False)"
   ]
  }
 ],
 "metadata": {
  "kernelspec": {
   "display_name": "Python 3",
   "language": "python",
   "name": "python3"
  },
  "language_info": {
   "codemirror_mode": {
    "name": "ipython",
    "version": 3
   },
   "file_extension": ".py",
   "mimetype": "text/x-python",
   "name": "python",
   "nbconvert_exporter": "python",
   "pygments_lexer": "ipython3",
   "version": "3.11.3"
  },
  "orig_nbformat": 4
 },
 "nbformat": 4,
 "nbformat_minor": 2
}
