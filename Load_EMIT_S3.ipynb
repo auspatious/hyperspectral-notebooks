{
 "cells": [
  {
   "cell_type": "code",
   "execution_count": null,
   "metadata": {},
   "outputs": [],
   "source": [
    "import requests\n",
    "import s3fs\n",
    "\n",
    "from emit_tools import emit_xarray"
   ]
  },
  {
   "cell_type": "code",
   "execution_count": null,
   "metadata": {},
   "outputs": [],
   "source": [
    "# This requires you to have an entry in .netrc for the NASA Earthdata Login\n",
    "CREDENTIALS = requests.get('https://data.lpdaac.earthdatacloud.nasa.gov/s3credentials').json()"
   ]
  },
  {
   "cell_type": "code",
   "execution_count": null,
   "metadata": {},
   "outputs": [],
   "source": [
    "# Pass Authentication to s3fs\n",
    "fs_s3 = s3fs.S3FileSystem(\n",
    "    anon=False,\n",
    "    key=CREDENTIALS[\"accessKeyId\"],\n",
    "    secret=CREDENTIALS[\"secretAccessKey\"],\n",
    "    token=CREDENTIALS[\"sessionToken\"],\n",
    ")"
   ]
  },
  {
   "cell_type": "code",
   "execution_count": null,
   "metadata": {},
   "outputs": [],
   "source": [
    "%%time\n",
    "s3_url = \"s3://lp-prod-protected/EMITL2ARFL.001/EMIT_L2A_RFL_001_20230123T004529_2302216_003/EMIT_L2A_RFL_001_20230123T004529_2302216_003.nc\"\n",
    "\n",
    "# Open the file as an xarray\n",
    "fp = fs_s3.open(s3_url, mode='rb')\n",
    "# Open dataset with xarray\n",
    "ds = emit_xarray(fp)\n",
    "ds"
   ]
  }
 ],
 "metadata": {
  "kernelspec": {
   "display_name": "Python 3 (ipykernel)",
   "language": "python",
   "name": "python3"
  },
  "language_info": {
   "codemirror_mode": {
    "name": "ipython",
    "version": 3
   },
   "file_extension": ".py",
   "mimetype": "text/x-python",
   "name": "python",
   "nbconvert_exporter": "python",
   "pygments_lexer": "ipython3",
   "version": "3.10.6"
  }
 },
 "nbformat": 4,
 "nbformat_minor": 4
}
